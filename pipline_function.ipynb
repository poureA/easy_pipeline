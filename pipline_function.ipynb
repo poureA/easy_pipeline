{
 "cells": [
  {
   "cell_type": "code",
   "execution_count": 8,
   "id": "cb12da0d",
   "metadata": {},
   "outputs": [],
   "source": [
    "def pipeline(*funcs,x=None) :\n",
    "    '''this function work like Pipeline class in sklearn'''\n",
    "    func_list = [*funcs]\n",
    "    res = func_list[0](x)\n",
    "    for i in func_list[1:] :\n",
    "        res = i(res)\n",
    "    return res"
   ]
  },
  {
   "cell_type": "code",
   "execution_count": 10,
   "id": "49f716a7",
   "metadata": {},
   "outputs": [
    {
     "name": "stdout",
     "output_type": "stream",
     "text": [
      "enter a number here :2\n"
     ]
    },
    {
     "data": {
      "text/plain": [
       "8"
      ]
     },
     "execution_count": 10,
     "metadata": {},
     "output_type": "execute_result"
    }
   ],
   "source": [
    "def one(val):\n",
    "    return val + 1\n",
    "def two(val):\n",
    "    return val + 2\n",
    "def three(val):\n",
    "    return val +3\n",
    "pipeline(one,two,three,x=int(input('enter a number here :')))"
   ]
  },
  {
   "cell_type": "code",
   "execution_count": null,
   "id": "90b05ac9",
   "metadata": {},
   "outputs": [],
   "source": []
  }
 ],
 "metadata": {
  "kernelspec": {
   "display_name": "Python 3 (ipykernel)",
   "language": "python",
   "name": "python3"
  },
  "language_info": {
   "codemirror_mode": {
    "name": "ipython",
    "version": 3
   },
   "file_extension": ".py",
   "mimetype": "text/x-python",
   "name": "python",
   "nbconvert_exporter": "python",
   "pygments_lexer": "ipython3",
   "version": "3.9.7"
  }
 },
 "nbformat": 4,
 "nbformat_minor": 5
}
